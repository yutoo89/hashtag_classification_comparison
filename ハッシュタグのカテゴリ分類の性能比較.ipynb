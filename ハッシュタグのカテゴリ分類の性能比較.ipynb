{
 "cells": [
  {
   "cell_type": "markdown",
   "id": "ebca567d",
   "metadata": {},
   "source": [
    "# ハッシュタグのカテゴリ分類の性能比較"
   ]
  },
  {
   "cell_type": "code",
   "execution_count": 1,
   "id": "826553ab",
   "metadata": {
    "scrolled": true
   },
   "outputs": [
    {
     "name": "stdout",
     "output_type": "stream",
     "text": [
      "              hashtag\n",
      "category             \n",
      "アート・デザイン           45\n",
      "クッキング・レシピ          55\n",
      "サイエンス・科学           39\n",
      "スポーツ               49\n",
      "テクノロジー・ガジェット       50\n",
      "ビジネス・経済            43\n",
      "ファッション・ビューティ       43\n",
      "ブック・文学             38\n",
      "ライフスタイル・生活         38\n",
      "健康・ウェルネス           44\n",
      "政治・社会問題            53\n",
      "教育・学習              41\n",
      "旅行・アウトドア           51\n",
      "映画・ドラマ             51\n",
      "音楽                 55\n"
     ]
    }
   ],
   "source": [
    "import pandas as pd\n",
    "df = pd.read_csv('input/hashtags.csv')\n",
    "df_category = pd.DataFrame(df['category'].unique(), columns=['category'])\n",
    "print(df.groupby('category').count())"
   ]
  },
  {
   "cell_type": "markdown",
   "id": "2b998641",
   "metadata": {},
   "source": [
    "## ハッシュタグをベクトルに変換する"
   ]
  },
  {
   "cell_type": "code",
   "execution_count": 2,
   "id": "327d85bd",
   "metadata": {},
   "outputs": [],
   "source": [
    "import torch\n",
    "from abc import ABC, abstractmethod\n",
    "from sklearn.metrics.pairwise import cosine_similarity\n",
    "from transformers import BertModel, BertTokenizer\n",
    "\n",
    "class EmbeddingModel(ABC):\n",
    "    @abstractmethod\n",
    "    def convert_to_vector(self, text):\n",
    "        pass\n",
    "\n",
    "class BERTModel(EmbeddingModel):\n",
    "    def __init__(self, model_name=\"bert-base-uncased\"):\n",
    "        self.tokenizer = BertTokenizer.from_pretrained(model_name)\n",
    "        self.model = BertModel.from_pretrained(model_name)\n",
    "        \n",
    "    def convert_to_vector(self, text):\n",
    "        inputs = self.tokenizer(text, return_tensors=\"pt\")\n",
    "        with torch.no_grad():\n",
    "            outputs = self.model(**inputs)\n",
    "        vector = outputs.last_hidden_state[0, 0, :].numpy().tolist()\n",
    "        return vector\n"
   ]
  },
  {
   "cell_type": "code",
   "execution_count": 3,
   "id": "0337fb2f",
   "metadata": {},
   "outputs": [],
   "source": [
    "import time\n",
    "\n",
    "def add_vector_column(df: pd.DataFrame, model: EmbeddingModel, column: str) -> pd.DataFrame:\n",
    "    start_time = time.time()\n",
    "\n",
    "    # 文字列をベクトルに変換して新しい列に追加\n",
    "    df[column+'_vector'] = df[column].apply(model.convert_to_vector)\n",
    "\n",
    "    # 処理時間の計測終了と結果の出力\n",
    "    elapsed_time = time.time() - start_time\n",
    "    print(f\"Elapsed time: {elapsed_time} seconds\")\n",
    "\n",
    "    return df"
   ]
  },
  {
   "cell_type": "markdown",
   "id": "7b925c5d",
   "metadata": {},
   "source": [
    "## ベクトルから最も類似するカテゴリを計算する"
   ]
  },
  {
   "cell_type": "code",
   "execution_count": 4,
   "id": "4d40a759",
   "metadata": {},
   "outputs": [],
   "source": [
    "import numpy as np\n",
    "\n",
    "def predict_category(df_hashtag: pd.DataFrame, df_category: pd.DataFrame) -> pd.DataFrame:\n",
    "    # ベクトルのリストを取得し、NumPy配列に変換\n",
    "    hashtag_vectors = np.array(df_hashtag['hashtag_vector'].tolist())\n",
    "    category_vectors = np.array(df_category['category_vector'].tolist())\n",
    "\n",
    "    # 各ハッシュタグベクトルと全カテゴリベクトルのコサイン類似度を計算\n",
    "    cosine_similarities = cosine_similarity(hashtag_vectors, category_vectors)\n",
    "\n",
    "    # 最も類似度が高いカテゴリのインデックスを取得\n",
    "    predicted_category_indices = np.argmax(cosine_similarities, axis=1)\n",
    "\n",
    "    # 最大類似度を取得\n",
    "    max_similarities = np.max(cosine_similarities, axis=1)\n",
    "\n",
    "    # 予測カテゴリを取得\n",
    "    predicted_categories = df_category['category'].iloc[predicted_category_indices].values\n",
    "\n",
    "    # df_hashtagに新しい列を追加\n",
    "    df_hashtag['predict_category'] = predicted_categories\n",
    "    df_hashtag['cosine_similarity'] = max_similarities\n",
    "\n",
    "    return df_hashtag"
   ]
  },
  {
   "cell_type": "markdown",
   "id": "566f8df5",
   "metadata": {},
   "source": [
    "## カテゴリ分類結果の評価\n",
    "\n",
    "各評価指標\n",
    "\n",
    "- **Accuracy（精度）**: Accuracyはモデルがクラスを正しく予測した割合です。すべての真正（真のクラスが正で予測も正）と真陰性（真のクラスが負で予測も負）の数を、全てのケースの数で割ったものになります。ただし、各クラスのサンプル数がバランスしていない場合（不均衡データ）には、この指標は誤解を招く可能性があります。\n",
    "\n",
    "- **Precision（適合率）**: Precisionは、モデルが正と予測したサンプルのうち、実際に正であったサンプルの割合を示します。偽陽性（実際は負だが、予測は正）を避けることが重要な場合（例えば、スパムメールのフィルタリング）に特に役立つ指標です。\n",
    "\n",
    "- **Recall（再現率）**: Recallは、実際の正のサンプルのうち、モデルが正と予測したサンプルの割合を示します。偽陰性（実際は正だが、予測は負）を避けることが重要な場合（例えば、病気の診断）に特に役立つ指標です。\n",
    "\n",
    "- **F1 Score（F1スコア）**: F1 ScoreはPrecisionとRecallの調和平均をとったもので、これら2つの評価指標のバランスを示します。F1スコアは、PrecisionとRecallの両方が重要な場合に特に有用です。F1スコアは1に近いほど良い性能を示し、0に近いほど低い性能を示します。\n",
    "\n",
    "混同行列のヒートマップ\n",
    "\n",
    "- **数字**: 数字は各セルの具体的な値を示しています。つまり、特定の「実際のクラス」（行）と「予測されたクラス」（列）の組み合わせがデータセット内で何回発生したかを示しています。\n",
    "- **色の濃さ**: 色の濃さはそのセルの値が相対的にどの程度大きいかを視覚的に表現しています。色が濃いほど、そのセルの値が大きい（つまり、その「実際のクラス」vs「予測されたクラス」の組み合わせが多く発生した）ことを意味します。これにより、一見してモデルがどのクラスをどの程度正しく予測できたか、またどのクラスで最も間違いが多かったかなど、全体のパターンを把握することが容易になります。"
   ]
  },
  {
   "cell_type": "code",
   "execution_count": 10,
   "id": "5b56e9be",
   "metadata": {},
   "outputs": [],
   "source": [
    "from sklearn.metrics import confusion_matrix, accuracy_score, precision_score, recall_score, f1_score\n",
    "import seaborn as sns\n",
    "import matplotlib.pyplot as plt\n",
    "\n",
    "def evaluation(df_predicted: pd.DataFrame):\n",
    "    # 予測と実際のカテゴリを取得\n",
    "    y_true = df_predicted['category']\n",
    "    y_pred = df_predicted['predict_category']\n",
    "\n",
    "    # 評価指標の計算\n",
    "    accuracy = accuracy_score(y_true, y_pred)\n",
    "    precision = precision_score(y_true, y_pred, average='macro')\n",
    "    recall = recall_score(y_true, y_pred, average='macro')\n",
    "    f1 = f1_score(y_true, y_pred, average='macro')\n",
    "\n",
    "    print(f'Accuracy: {accuracy:.2f}\\nPrecision: {precision:.2f}\\nRecall: {recall:.2f}\\nF1 Score: {f1:.2f}')\n",
    "\n",
    "    # 混同行列の作成\n",
    "    cm = confusion_matrix(y_true, y_pred)\n",
    "    plt.figure(figsize=(10, 7))\n",
    "    sns.heatmap(cm, annot=True, fmt=\"d\", cmap='Blues')\n",
    "    plt.xlabel('Predicted')\n",
    "    plt.ylabel('Actual')\n",
    "    plt.show()"
   ]
  },
  {
   "cell_type": "markdown",
   "id": "77a506dd",
   "metadata": {},
   "source": [
    "### BERTを使ったカテゴリ分類"
   ]
  },
  {
   "cell_type": "code",
   "execution_count": 6,
   "id": "6894e70a",
   "metadata": {
    "scrolled": true
   },
   "outputs": [
    {
     "name": "stderr",
     "output_type": "stream",
     "text": [
      "Some weights of the model checkpoint at bert-base-uncased were not used when initializing BertModel: ['cls.predictions.transform.LayerNorm.bias', 'cls.predictions.transform.LayerNorm.weight', 'cls.predictions.bias', 'cls.seq_relationship.weight', 'cls.predictions.transform.dense.weight', 'cls.predictions.transform.dense.bias', 'cls.seq_relationship.bias']\n",
      "- This IS expected if you are initializing BertModel from the checkpoint of a model trained on another task or with another architecture (e.g. initializing a BertForSequenceClassification model from a BertForPreTraining model).\n",
      "- This IS NOT expected if you are initializing BertModel from the checkpoint of a model that you expect to be exactly identical (initializing a BertForSequenceClassification model from a BertForSequenceClassification model).\n"
     ]
    },
    {
     "name": "stdout",
     "output_type": "stream",
     "text": [
      "Elapsed time: 77.51746821403503 seconds\n",
      "Elapsed time: 1.5451056957244873 seconds\n"
     ]
    }
   ],
   "source": [
    "bert_model = BERTModel()\n",
    "\n",
    "# ハッシュタグをベクトル変換してcsv出力\n",
    "df_bert = add_vector_column(df, bert_model, 'hashtag')\n",
    "df_bert.to_csv('output/hashtags_bert.csv', index=False)\n",
    "\n",
    "# カテゴリをベクトル変換してcsv出力\n",
    "df_category_bert = add_vector_column(df_category, bert_model, 'category')\n",
    "df_category_bert.to_csv('output/categories_bert.csv', index=False)"
   ]
  },
  {
   "cell_type": "code",
   "execution_count": 7,
   "id": "7497b520",
   "metadata": {},
   "outputs": [
    {
     "data": {
      "text/html": [
       "<div>\n",
       "<style scoped>\n",
       "    .dataframe tbody tr th:only-of-type {\n",
       "        vertical-align: middle;\n",
       "    }\n",
       "\n",
       "    .dataframe tbody tr th {\n",
       "        vertical-align: top;\n",
       "    }\n",
       "\n",
       "    .dataframe thead th {\n",
       "        text-align: right;\n",
       "    }\n",
       "</style>\n",
       "<table border=\"1\" class=\"dataframe\">\n",
       "  <thead>\n",
       "    <tr style=\"text-align: right;\">\n",
       "      <th></th>\n",
       "      <th>hashtag</th>\n",
       "      <th>category</th>\n",
       "      <th>hashtag_vector</th>\n",
       "      <th>predict_category</th>\n",
       "      <th>cosine_similarity</th>\n",
       "    </tr>\n",
       "  </thead>\n",
       "  <tbody>\n",
       "    <tr>\n",
       "      <th>0</th>\n",
       "      <td>サッカー</td>\n",
       "      <td>スポーツ</td>\n",
       "      <td>[-0.4107682406902313, -0.5052114129066467, -0....</td>\n",
       "      <td>アート・デザイン</td>\n",
       "      <td>0.952842</td>\n",
       "    </tr>\n",
       "    <tr>\n",
       "      <th>1</th>\n",
       "      <td>野球</td>\n",
       "      <td>スポーツ</td>\n",
       "      <td>[-0.2615754306316376, 0.09152048081159592, -0....</td>\n",
       "      <td>健康・ウェルネス</td>\n",
       "      <td>0.953856</td>\n",
       "    </tr>\n",
       "    <tr>\n",
       "      <th>2</th>\n",
       "      <td>ラグビー</td>\n",
       "      <td>スポーツ</td>\n",
       "      <td>[-0.31610018014907837, -0.8343167304992676, -0...</td>\n",
       "      <td>クッキング・レシピ</td>\n",
       "      <td>0.945390</td>\n",
       "    </tr>\n",
       "    <tr>\n",
       "      <th>3</th>\n",
       "      <td>マラソン</td>\n",
       "      <td>スポーツ</td>\n",
       "      <td>[-0.5356400012969971, 0.5024380683898926, -0.5...</td>\n",
       "      <td>音楽</td>\n",
       "      <td>0.984449</td>\n",
       "    </tr>\n",
       "    <tr>\n",
       "      <th>4</th>\n",
       "      <td>バレーボール</td>\n",
       "      <td>スポーツ</td>\n",
       "      <td>[-0.5938227772712708, -0.46884140372276306, -0...</td>\n",
       "      <td>アート・デザイン</td>\n",
       "      <td>0.968736</td>\n",
       "    </tr>\n",
       "  </tbody>\n",
       "</table>\n",
       "</div>"
      ],
      "text/plain": [
       "  hashtag category                                     hashtag_vector  \\\n",
       "0    サッカー     スポーツ  [-0.4107682406902313, -0.5052114129066467, -0....   \n",
       "1      野球     スポーツ  [-0.2615754306316376, 0.09152048081159592, -0....   \n",
       "2    ラグビー     スポーツ  [-0.31610018014907837, -0.8343167304992676, -0...   \n",
       "3    マラソン     スポーツ  [-0.5356400012969971, 0.5024380683898926, -0.5...   \n",
       "4  バレーボール     スポーツ  [-0.5938227772712708, -0.46884140372276306, -0...   \n",
       "\n",
       "  predict_category  cosine_similarity  \n",
       "0         アート・デザイン           0.952842  \n",
       "1         健康・ウェルネス           0.953856  \n",
       "2        クッキング・レシピ           0.945390  \n",
       "3               音楽           0.984449  \n",
       "4         アート・デザイン           0.968736  "
      ]
     },
     "execution_count": 7,
     "metadata": {},
     "output_type": "execute_result"
    }
   ],
   "source": [
    "df_bert_predicted = predict_category(df_bert, df_category_bert)\n",
    "df_bert_predicted.to_csv('output/hashtags_bert_predicted.csv', index=False)\n",
    "df_bert_predicted.head()"
   ]
  },
  {
   "cell_type": "code",
   "execution_count": 8,
   "id": "d3ea4525",
   "metadata": {},
   "outputs": [
    {
     "name": "stdout",
     "output_type": "stream",
     "text": [
      "Requirement already satisfied: seaborn in /usr/local/lib/python3.8/site-packages (0.12.2)\n",
      "Requirement already satisfied: pandas>=0.25 in /usr/local/lib/python3.8/site-packages (from seaborn) (2.0.2)\n",
      "Requirement already satisfied: numpy!=1.24.0,>=1.17 in /usr/local/lib/python3.8/site-packages (from seaborn) (1.24.3)\n",
      "Requirement already satisfied: matplotlib!=3.6.1,>=3.1 in /usr/local/lib/python3.8/site-packages (from seaborn) (3.7.1)\n",
      "Requirement already satisfied: fonttools>=4.22.0 in /usr/local/lib/python3.8/site-packages (from matplotlib!=3.6.1,>=3.1->seaborn) (4.40.0)\n",
      "Requirement already satisfied: importlib-resources>=3.2.0 in /usr/local/lib/python3.8/site-packages (from matplotlib!=3.6.1,>=3.1->seaborn) (5.12.0)\n",
      "Requirement already satisfied: cycler>=0.10 in /usr/local/lib/python3.8/site-packages (from matplotlib!=3.6.1,>=3.1->seaborn) (0.11.0)\n",
      "Requirement already satisfied: kiwisolver>=1.0.1 in /usr/local/lib/python3.8/site-packages (from matplotlib!=3.6.1,>=3.1->seaborn) (1.4.4)\n",
      "Requirement already satisfied: pyparsing>=2.3.1 in /usr/local/lib/python3.8/site-packages (from matplotlib!=3.6.1,>=3.1->seaborn) (3.1.0)\n",
      "Requirement already satisfied: python-dateutil>=2.7 in /usr/local/lib/python3.8/site-packages (from matplotlib!=3.6.1,>=3.1->seaborn) (2.8.2)\n",
      "Requirement already satisfied: pillow>=6.2.0 in /usr/local/lib/python3.8/site-packages (from matplotlib!=3.6.1,>=3.1->seaborn) (9.5.0)\n",
      "Requirement already satisfied: contourpy>=1.0.1 in /usr/local/lib/python3.8/site-packages (from matplotlib!=3.6.1,>=3.1->seaborn) (1.1.0)\n",
      "Requirement already satisfied: packaging>=20.0 in /usr/local/lib/python3.8/site-packages (from matplotlib!=3.6.1,>=3.1->seaborn) (23.1)\n",
      "Requirement already satisfied: pytz>=2020.1 in /usr/local/lib/python3.8/site-packages (from pandas>=0.25->seaborn) (2023.3)\n",
      "Requirement already satisfied: tzdata>=2022.1 in /usr/local/lib/python3.8/site-packages (from pandas>=0.25->seaborn) (2023.3)\n",
      "Requirement already satisfied: zipp>=3.1.0 in /usr/local/lib/python3.8/site-packages (from importlib-resources>=3.2.0->matplotlib!=3.6.1,>=3.1->seaborn) (3.15.0)\n",
      "Requirement already satisfied: six>=1.5 in /usr/local/lib/python3.8/site-packages (from python-dateutil>=2.7->matplotlib!=3.6.1,>=3.1->seaborn) (1.16.0)\n",
      "\u001b[33mWARNING: Running pip as the 'root' user can result in broken permissions and conflicting behaviour with the system package manager. It is recommended to use a virtual environment instead: https://pip.pypa.io/warnings/venv\u001b[0m\u001b[33m\n",
      "\u001b[0m\n",
      "\u001b[1m[\u001b[0m\u001b[34;49mnotice\u001b[0m\u001b[1;39;49m]\u001b[0m\u001b[39;49m A new release of pip is available: \u001b[0m\u001b[31;49m23.0.1\u001b[0m\u001b[39;49m -> \u001b[0m\u001b[32;49m23.1.2\u001b[0m\n",
      "\u001b[1m[\u001b[0m\u001b[34;49mnotice\u001b[0m\u001b[1;39;49m]\u001b[0m\u001b[39;49m To update, run: \u001b[0m\u001b[32;49mpip install --upgrade pip\u001b[0m\n"
     ]
    }
   ],
   "source": [
    "!pip install seaborn"
   ]
  },
  {
   "cell_type": "code",
   "execution_count": 11,
   "id": "1315b047",
   "metadata": {},
   "outputs": [
    {
     "name": "stdout",
     "output_type": "stream",
     "text": [
      "Accuracy: 0.12\n",
      "Precision: 0.15\n",
      "Recall: 0.12\n",
      "F1 Score: 0.12\n"
     ]
    },
    {
     "data": {
      "image/png": "[encoded data removed]",
      "text/plain": [
       "<Figure size 1000x700 with 2 Axes>"
      ]
     },
     "metadata": {},
     "output_type": "display_data"
    }
   ],
   "source": [
    "evaluation(df_bert_predicted)"
   ]
  }
 ],
 "metadata": {
  "kernelspec": {
   "display_name": "Python 3 (ipykernel)",
   "language": "python",
   "name": "python3"
  },
  "language_info": {
   "codemirror_mode": {
    "name": "ipython",
    "version": 3
   },
   "file_extension": ".py",
   "mimetype": "text/x-python",
   "name": "python",
   "nbconvert_exporter": "python",
   "pygments_lexer": "ipython3",
   "version": "3.8.17"
  }
 },
 "nbformat": 4,
 "nbformat_minor": 5
}
